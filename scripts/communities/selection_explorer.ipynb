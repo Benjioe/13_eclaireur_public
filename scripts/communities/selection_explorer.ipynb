{
 "cells": [
  {
   "attachments": {},
   "cell_type": "markdown",
   "metadata": {},
   "source": [
    "# Importation des bibliothèques nécessaires"
   ]
  },
  {
   "cell_type": "code",
   "execution_count": 1,
   "metadata": {},
   "outputs": [],
   "source": [
    "import pandas as pd\n",
    "import matplotlib.pyplot as plt\n",
    "from pathlib import Path"
   ]
  },
  {
   "attachments": {},
   "cell_type": "markdown",
   "metadata": {},
   "source": [
    "# Chargement des données\n"
   ]
  },
  {
   "cell_type": "code",
   "execution_count": 2,
   "metadata": {},
   "outputs": [],
   "source": [
    "data_folder = Path(\"../../data/communities/processed_data/\")\n",
    "all_communities = pd.read_csv(data_folder / \"infos_collectivites.csv\")\n",
    "selected_communities = pd.read_csv(data_folder / \"selected_communities.csv\")"
   ]
  },
  {
   "attachments": {},
   "cell_type": "markdown",
   "metadata": {},
   "source": [
    "# Affichage des 5 premières lignes des communautés sélectionnées"
   ]
  },
  {
   "cell_type": "code",
   "execution_count": 3,
   "metadata": {},
   "outputs": [
    {
     "data": {
      "text/html": [
       "<div>\n",
       "<style scoped>\n",
       "    .dataframe tbody tr th:only-of-type {\n",
       "        vertical-align: middle;\n",
       "    }\n",
       "\n",
       "    .dataframe tbody tr th {\n",
       "        vertical-align: top;\n",
       "    }\n",
       "\n",
       "    .dataframe thead th {\n",
       "        text-align: right;\n",
       "    }\n",
       "</style>\n",
       "<table border=\"1\" class=\"dataframe\">\n",
       "  <thead>\n",
       "    <tr style=\"text-align: right;\">\n",
       "      <th></th>\n",
       "      <th>nom</th>\n",
       "      <th>SIREN</th>\n",
       "      <th>type</th>\n",
       "      <th>COG</th>\n",
       "      <th>COG_3digits</th>\n",
       "      <th>code_departement</th>\n",
       "      <th>code_departement_3digits</th>\n",
       "      <th>code_region</th>\n",
       "      <th>population</th>\n",
       "      <th>EPCI</th>\n",
       "      <th>url-ptf</th>\n",
       "      <th>url-datagouv</th>\n",
       "      <th>id-datagouv</th>\n",
       "      <th>merge</th>\n",
       "      <th>ptf</th>\n",
       "      <th>trancheEffectifsUniteLegale</th>\n",
       "      <th>EffectifsSup50</th>\n",
       "    </tr>\n",
       "  </thead>\n",
       "  <tbody>\n",
       "    <tr>\n",
       "      <th>0</th>\n",
       "      <td>Guadeloupe</td>\n",
       "      <td>239710015</td>\n",
       "      <td>REG</td>\n",
       "      <td>01</td>\n",
       "      <td>NaN</td>\n",
       "      <td>NaN</td>\n",
       "      <td>NaN</td>\n",
       "      <td>NaN</td>\n",
       "      <td>396153</td>\n",
       "      <td>NaN</td>\n",
       "      <td>https://regionguadeloupe.opendatasoft.com/expl...</td>\n",
       "      <td>NaN</td>\n",
       "      <td>NaN</td>\n",
       "      <td>ptf</td>\n",
       "      <td>KaruData</td>\n",
       "      <td>42.0</td>\n",
       "      <td>True</td>\n",
       "    </tr>\n",
       "    <tr>\n",
       "      <th>1</th>\n",
       "      <td>Martinique</td>\n",
       "      <td>200055507</td>\n",
       "      <td>CTU</td>\n",
       "      <td>02</td>\n",
       "      <td>NaN</td>\n",
       "      <td>NaN</td>\n",
       "      <td>NaN</td>\n",
       "      <td>NaN</td>\n",
       "      <td>377711</td>\n",
       "      <td>NaN</td>\n",
       "      <td>NaN</td>\n",
       "      <td>NaN</td>\n",
       "      <td>NaN</td>\n",
       "      <td>NaN</td>\n",
       "      <td>NaN</td>\n",
       "      <td>51.0</td>\n",
       "      <td>True</td>\n",
       "    </tr>\n",
       "    <tr>\n",
       "      <th>2</th>\n",
       "      <td>Guyane</td>\n",
       "      <td>200052678</td>\n",
       "      <td>CTU</td>\n",
       "      <td>03</td>\n",
       "      <td>NaN</td>\n",
       "      <td>NaN</td>\n",
       "      <td>NaN</td>\n",
       "      <td>NaN</td>\n",
       "      <td>271124</td>\n",
       "      <td>NaN</td>\n",
       "      <td>NaN</td>\n",
       "      <td>NaN</td>\n",
       "      <td>NaN</td>\n",
       "      <td>NaN</td>\n",
       "      <td>NaN</td>\n",
       "      <td>51.0</td>\n",
       "      <td>True</td>\n",
       "    </tr>\n",
       "    <tr>\n",
       "      <th>3</th>\n",
       "      <td>La Réunion</td>\n",
       "      <td>239740012</td>\n",
       "      <td>REG</td>\n",
       "      <td>04</td>\n",
       "      <td>NaN</td>\n",
       "      <td>NaN</td>\n",
       "      <td>NaN</td>\n",
       "      <td>NaN</td>\n",
       "      <td>863063</td>\n",
       "      <td>NaN</td>\n",
       "      <td>https://data.regionreunion.com/explore/?disjun...</td>\n",
       "      <td>NaN</td>\n",
       "      <td>NaN</td>\n",
       "      <td>ptf</td>\n",
       "      <td>La Réunion</td>\n",
       "      <td>51.0</td>\n",
       "      <td>True</td>\n",
       "    </tr>\n",
       "    <tr>\n",
       "      <th>4</th>\n",
       "      <td>Île-de-France</td>\n",
       "      <td>237500079</td>\n",
       "      <td>REG</td>\n",
       "      <td>11</td>\n",
       "      <td>NaN</td>\n",
       "      <td>NaN</td>\n",
       "      <td>NaN</td>\n",
       "      <td>NaN</td>\n",
       "      <td>12291279</td>\n",
       "      <td>NaN</td>\n",
       "      <td>https://data.iledefrance.fr/explore/?refine.pu...</td>\n",
       "      <td>https://www.data.gouv.fr/fr/organizations/534f...</td>\n",
       "      <td>534fffa8a3a7292c64a780c8</td>\n",
       "      <td>ptf+datagouv</td>\n",
       "      <td>Ile-de-France, DataGouv</td>\n",
       "      <td>53.0</td>\n",
       "      <td>True</td>\n",
       "    </tr>\n",
       "  </tbody>\n",
       "</table>\n",
       "</div>"
      ],
      "text/plain": [
       "             nom      SIREN type COG COG_3digits code_departement  \\\n",
       "0     Guadeloupe  239710015  REG  01         NaN              NaN   \n",
       "1     Martinique  200055507  CTU  02         NaN              NaN   \n",
       "2         Guyane  200052678  CTU  03         NaN              NaN   \n",
       "3     La Réunion  239740012  REG  04         NaN              NaN   \n",
       "4  Île-de-France  237500079  REG  11         NaN              NaN   \n",
       "\n",
       "  code_departement_3digits code_region  population  EPCI  \\\n",
       "0                      NaN         NaN      396153   NaN   \n",
       "1                      NaN         NaN      377711   NaN   \n",
       "2                      NaN         NaN      271124   NaN   \n",
       "3                      NaN         NaN      863063   NaN   \n",
       "4                      NaN         NaN    12291279   NaN   \n",
       "\n",
       "                                             url-ptf  \\\n",
       "0  https://regionguadeloupe.opendatasoft.com/expl...   \n",
       "1                                                NaN   \n",
       "2                                                NaN   \n",
       "3  https://data.regionreunion.com/explore/?disjun...   \n",
       "4  https://data.iledefrance.fr/explore/?refine.pu...   \n",
       "\n",
       "                                        url-datagouv  \\\n",
       "0                                                NaN   \n",
       "1                                                NaN   \n",
       "2                                                NaN   \n",
       "3                                                NaN   \n",
       "4  https://www.data.gouv.fr/fr/organizations/534f...   \n",
       "\n",
       "                id-datagouv         merge                      ptf  \\\n",
       "0                       NaN           ptf                 KaruData   \n",
       "1                       NaN           NaN                      NaN   \n",
       "2                       NaN           NaN                      NaN   \n",
       "3                       NaN           ptf               La Réunion   \n",
       "4  534fffa8a3a7292c64a780c8  ptf+datagouv  Ile-de-France, DataGouv   \n",
       "\n",
       "   trancheEffectifsUniteLegale  EffectifsSup50  \n",
       "0                         42.0            True  \n",
       "1                         51.0            True  \n",
       "2                         51.0            True  \n",
       "3                         51.0            True  \n",
       "4                         53.0            True  "
      ]
     },
     "execution_count": 3,
     "metadata": {},
     "output_type": "execute_result"
    }
   ],
   "source": [
    "selected_communities.head()"
   ]
  },
  {
   "attachments": {},
   "cell_type": "markdown",
   "metadata": {},
   "source": [
    "# Statistiques descriptives des communautés sélectionnées\n"
   ]
  },
  {
   "cell_type": "code",
   "execution_count": 4,
   "metadata": {},
   "outputs": [
    {
     "data": {
      "text/html": [
       "<div>\n",
       "<style scoped>\n",
       "    .dataframe tbody tr th:only-of-type {\n",
       "        vertical-align: middle;\n",
       "    }\n",
       "\n",
       "    .dataframe tbody tr th {\n",
       "        vertical-align: top;\n",
       "    }\n",
       "\n",
       "    .dataframe thead th {\n",
       "        text-align: right;\n",
       "    }\n",
       "</style>\n",
       "<table border=\"1\" class=\"dataframe\">\n",
       "  <thead>\n",
       "    <tr style=\"text-align: right;\">\n",
       "      <th></th>\n",
       "      <th>SIREN</th>\n",
       "      <th>population</th>\n",
       "      <th>EPCI</th>\n",
       "      <th>trancheEffectifsUniteLegale</th>\n",
       "    </tr>\n",
       "  </thead>\n",
       "  <tbody>\n",
       "    <tr>\n",
       "      <th>count</th>\n",
       "      <td>4,510</td>\n",
       "      <td>4,510</td>\n",
       "      <td>3,126</td>\n",
       "      <td>3,240</td>\n",
       "    </tr>\n",
       "    <tr>\n",
       "      <th>mean</th>\n",
       "      <td>2.2e+08</td>\n",
       "      <td>56,576</td>\n",
       "      <td>2.2e+08</td>\n",
       "      <td>28</td>\n",
       "    </tr>\n",
       "    <tr>\n",
       "      <th>std</th>\n",
       "      <td>12,603,583</td>\n",
       "      <td>356,724</td>\n",
       "      <td>22,204,459</td>\n",
       "      <td>9</td>\n",
       "    </tr>\n",
       "    <tr>\n",
       "      <th>min</th>\n",
       "      <td>2.0e+08</td>\n",
       "      <td>3,501</td>\n",
       "      <td>2.0e+08</td>\n",
       "      <td>21</td>\n",
       "    </tr>\n",
       "    <tr>\n",
       "      <th>25%</th>\n",
       "      <td>2.1e+08</td>\n",
       "      <td>5,487</td>\n",
       "      <td>2.0e+08</td>\n",
       "      <td>21</td>\n",
       "    </tr>\n",
       "    <tr>\n",
       "      <th>50%</th>\n",
       "      <td>2.2e+08</td>\n",
       "      <td>9,719</td>\n",
       "      <td>2.0e+08</td>\n",
       "      <td>22</td>\n",
       "    </tr>\n",
       "    <tr>\n",
       "      <th>75%</th>\n",
       "      <td>2.2e+08</td>\n",
       "      <td>23,999</td>\n",
       "      <td>2.4e+08</td>\n",
       "      <td>32</td>\n",
       "    </tr>\n",
       "    <tr>\n",
       "      <th>max</th>\n",
       "      <td>2.5e+08</td>\n",
       "      <td>12,291,279</td>\n",
       "      <td>2.5e+08</td>\n",
       "      <td>53</td>\n",
       "    </tr>\n",
       "  </tbody>\n",
       "</table>\n",
       "</div>"
      ],
      "text/plain": [
       "           SIREN  population       EPCI  trancheEffectifsUniteLegale\n",
       "count      4,510       4,510      3,126                        3,240\n",
       "mean     2.2e+08      56,576    2.2e+08                           28\n",
       "std   12,603,583     356,724 22,204,459                            9\n",
       "min      2.0e+08       3,501    2.0e+08                           21\n",
       "25%      2.1e+08       5,487    2.0e+08                           21\n",
       "50%      2.2e+08       9,719    2.0e+08                           22\n",
       "75%      2.2e+08      23,999    2.4e+08                           32\n",
       "max      2.5e+08  12,291,279    2.5e+08                           53"
      ]
     },
     "execution_count": 4,
     "metadata": {},
     "output_type": "execute_result"
    }
   ],
   "source": [
    "# Fonction de formatage personnalisée pour les nombres flottants\n",
    "def custom_float_format(x):\n",
    "    if abs(x) < 100000000:\n",
    "        return '{:,.0f}'.format(x)\n",
    "    else:\n",
    "        return '{:,.1e}'.format(x)\n",
    "\n",
    "# Définir l'affichage des nombres flottants en utilisant la fonction de formatage personnalisée\n",
    "pd.options.display.float_format = custom_float_format\n",
    "\n",
    "selected_communities.describe()"
   ]
  },
  {
   "attachments": {},
   "cell_type": "markdown",
   "metadata": {},
   "source": [
    "# Répartition des types de communautés sélectionnées\n"
   ]
  },
  {
   "cell_type": "code",
   "execution_count": 5,
   "metadata": {},
   "outputs": [
    {
     "data": {
      "text/plain": [
       "COM    3127\n",
       "CC      995\n",
       "CA      224\n",
       "DEP      98\n",
       "MET      24\n",
       "REG      14\n",
       "CU       14\n",
       "EPT      11\n",
       "CTU       3\n",
       "Name: type, dtype: int64"
      ]
     },
     "execution_count": 5,
     "metadata": {},
     "output_type": "execute_result"
    }
   ],
   "source": [
    "selected_communities['type'].value_counts()"
   ]
  },
  {
   "cell_type": "code",
   "execution_count": 10,
   "metadata": {},
   "outputs": [
    {
     "data": {
      "text/plain": [
       "COM    34969\n",
       "CC       995\n",
       "CA       224\n",
       "DEP       98\n",
       "MET       24\n",
       "REG       14\n",
       "CU        14\n",
       "EPT       11\n",
       "CTU        3\n",
       "Name: type, dtype: int64"
      ]
     },
     "execution_count": 10,
     "metadata": {},
     "output_type": "execute_result"
    }
   ],
   "source": [
    "all_communities['type'].value_counts()"
   ]
  },
  {
   "attachments": {},
   "cell_type": "markdown",
   "metadata": {},
   "source": [
    "# Histogramme de la population des communautés sélectionnées\n"
   ]
  },
  {
   "cell_type": "code",
   "execution_count": 6,
   "metadata": {},
   "outputs": [
    {
     "data": {
      "text/plain": [
       "<Axes: >"
      ]
     },
     "execution_count": 6,
     "metadata": {},
     "output_type": "execute_result"
    },
    {
     "data": {
      "image/png": "[encoded data removed]",
      "text/plain": [
       "<Figure size 640x480 with 1 Axes>"
      ]
     },
     "metadata": {},
     "output_type": "display_data"
    }
   ],
   "source": [
    "selected_communities['population'].hist(bins=50)"
   ]
  },
  {
   "attachments": {},
   "cell_type": "markdown",
   "metadata": {},
   "source": [
    "# Nombre et pourcentage de types de communautés sélectionnées\n"
   ]
  },
  {
   "cell_type": "code",
   "execution_count": 7,
   "metadata": {},
   "outputs": [
    {
     "data": {
      "text/plain": [
       "COM    3127\n",
       "CC      995\n",
       "CA      224\n",
       "DEP      98\n",
       "MET      24\n",
       "REG      14\n",
       "CU       14\n",
       "EPT      11\n",
       "CTU       3\n",
       "Name: type, dtype: int64"
      ]
     },
     "execution_count": 7,
     "metadata": {},
     "output_type": "execute_result"
    }
   ],
   "source": [
    "type_counts_selected = selected_communities[\"type\"].value_counts()\n",
    "type_counts_selected"
   ]
  },
  {
   "cell_type": "code",
   "execution_count": 8,
   "metadata": {},
   "outputs": [
    {
     "data": {
      "text/html": [
       "<div>\n",
       "<style scoped>\n",
       "    .dataframe tbody tr th:only-of-type {\n",
       "        vertical-align: middle;\n",
       "    }\n",
       "\n",
       "    .dataframe tbody tr th {\n",
       "        vertical-align: top;\n",
       "    }\n",
       "\n",
       "    .dataframe thead th {\n",
       "        text-align: right;\n",
       "    }\n",
       "</style>\n",
       "<table border=\"1\" class=\"dataframe\">\n",
       "  <thead>\n",
       "    <tr style=\"text-align: right;\">\n",
       "      <th></th>\n",
       "      <th>type</th>\n",
       "      <th>percentage</th>\n",
       "    </tr>\n",
       "  </thead>\n",
       "  <tbody>\n",
       "    <tr>\n",
       "      <th>COM</th>\n",
       "      <td>69</td>\n",
       "      <td>69.33%</td>\n",
       "    </tr>\n",
       "    <tr>\n",
       "      <th>CC</th>\n",
       "      <td>22</td>\n",
       "      <td>22.06%</td>\n",
       "    </tr>\n",
       "    <tr>\n",
       "      <th>CA</th>\n",
       "      <td>5</td>\n",
       "      <td>4.97%</td>\n",
       "    </tr>\n",
       "    <tr>\n",
       "      <th>DEP</th>\n",
       "      <td>2</td>\n",
       "      <td>2.17%</td>\n",
       "    </tr>\n",
       "    <tr>\n",
       "      <th>MET</th>\n",
       "      <td>1</td>\n",
       "      <td>0.53%</td>\n",
       "    </tr>\n",
       "    <tr>\n",
       "      <th>REG</th>\n",
       "      <td>0</td>\n",
       "      <td>0.31%</td>\n",
       "    </tr>\n",
       "    <tr>\n",
       "      <th>CU</th>\n",
       "      <td>0</td>\n",
       "      <td>0.31%</td>\n",
       "    </tr>\n",
       "    <tr>\n",
       "      <th>EPT</th>\n",
       "      <td>0</td>\n",
       "      <td>0.24%</td>\n",
       "    </tr>\n",
       "    <tr>\n",
       "      <th>CTU</th>\n",
       "      <td>0</td>\n",
       "      <td>0.07%</td>\n",
       "    </tr>\n",
       "  </tbody>\n",
       "</table>\n",
       "</div>"
      ],
      "text/plain": [
       "     type percentage\n",
       "COM    69     69.33%\n",
       "CC     22     22.06%\n",
       "CA      5      4.97%\n",
       "DEP     2      2.17%\n",
       "MET     1      0.53%\n",
       "REG     0      0.31%\n",
       "CU      0      0.31%\n",
       "EPT     0      0.24%\n",
       "CTU     0      0.07%"
      ]
     },
     "execution_count": 8,
     "metadata": {},
     "output_type": "execute_result"
    }
   ],
   "source": [
    "type_counts_selected = selected_communities[\"type\"].value_counts(normalize=True) * 100\n",
    "type_counts_percent = type_counts_selected.round(2).astype(str) + '%'\n",
    "type_counts_combined = type_counts_selected.to_frame().join(type_counts_percent.to_frame('percentage'))\n",
    "type_counts_combined"
   ]
  },
  {
   "attachments": {},
   "cell_type": "markdown",
   "metadata": {},
   "source": [
    "# Valeurs manquantes par colonne\n"
   ]
  },
  {
   "cell_type": "code",
   "execution_count": 9,
   "metadata": {},
   "outputs": [
    {
     "name": "stdout",
     "output_type": "stream",
     "text": [
      "Nombre de valeurs manquantes par colonne :\n",
      " nom                               0\n",
      "SIREN                             0\n",
      "type                              0\n",
      "COG                            1268\n",
      "COG_3digits                    4412\n",
      "code_departement                115\n",
      "code_departement_3digits        115\n",
      "code_region                      17\n",
      "population                        0\n",
      "EPCI                           1384\n",
      "url-ptf                        4160\n",
      "url-datagouv                   4097\n",
      "id-datagouv                    4101\n",
      "merge                          3904\n",
      "ptf                            3931\n",
      "trancheEffectifsUniteLegale    1270\n",
      "EffectifsSup50                    0\n",
      "dtype: int64\n"
     ]
    }
   ],
   "source": [
    "missing_values = selected_communities.isnull().sum()\n",
    "print(\"Nombre de valeurs manquantes par colonne :\\n\", missing_values)"
   ]
  }
 ],
 "metadata": {
  "kernelspec": {
   "display_name": "localo_env",
   "language": "python",
   "name": "python3"
  },
  "language_info": {
   "codemirror_mode": {
    "name": "ipython",
    "version": 3
   },
   "file_extension": ".py",
   "mimetype": "text/x-python",
   "name": "python",
   "nbconvert_exporter": "python",
   "pygments_lexer": "ipython3",
   "version": "3.11.3"
  },
  "orig_nbformat": 4
 },
 "nbformat": 4,
 "nbformat_minor": 2
}
